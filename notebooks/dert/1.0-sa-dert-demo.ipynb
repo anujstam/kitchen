{
 "cells": [
  {
   "cell_type": "markdown",
   "metadata": {},
   "source": [
    "### DeRT analysis using Iris dataset"
   ]
  },
  {
   "cell_type": "code",
   "execution_count": 1,
   "metadata": {},
   "outputs": [
    {
     "name": "stderr",
     "output_type": "stream",
     "text": [
      "Using TensorFlow backend.\n"
     ]
    }
   ],
   "source": [
    "from sklearn.datasets import load_iris\n",
    "from sklearn.preprocessing import StandardScaler\n",
    "\n",
    "from kitchen.dert.dert_models import FeatureDrivenModel, CombinedModel\n",
    "import numpy as np\n",
    "from nltk.translate.bleu_score import sentence_bleu"
   ]
  },
  {
   "cell_type": "code",
   "execution_count": 2,
   "metadata": {},
   "outputs": [],
   "source": [
    "iris = load_iris()\n",
    "X = iris['data']\n",
    "y = iris['target']\n",
    "scaler = StandardScaler()\n",
    "scaler.fit(X)\n",
    "X = scaler.transform(X)"
   ]
  },
  {
   "cell_type": "code",
   "execution_count": 3,
   "metadata": {},
   "outputs": [],
   "source": [
    "trial_2 = CombinedModel()"
   ]
  },
  {
   "cell_type": "code",
   "execution_count": 4,
   "metadata": {},
   "outputs": [],
   "source": [
    "trial_2.transform_data(X,y)"
   ]
  },
  {
   "cell_type": "code",
   "execution_count": 5,
   "metadata": {},
   "outputs": [
    {
     "name": "stdout",
     "output_type": "stream",
     "text": [
      "WARNING:tensorflow:From /home/shakkeel/anaconda3/envs/test_imly/lib/python3.6/site-packages/tensorflow/python/framework/op_def_library.py:263: colocate_with (from tensorflow.python.framework.ops) is deprecated and will be removed in a future version.\n",
      "Instructions for updating:\n",
      "Colocations handled automatically by placer.\n"
     ]
    }
   ],
   "source": [
    "trial_2.create_model()"
   ]
  },
  {
   "cell_type": "code",
   "execution_count": 6,
   "metadata": {},
   "outputs": [
    {
     "name": "stdout",
     "output_type": "stream",
     "text": [
      "WARNING:tensorflow:From /home/shakkeel/anaconda3/envs/test_imly/lib/python3.6/site-packages/tensorflow/python/ops/math_ops.py:3066: to_int32 (from tensorflow.python.ops.math_ops) is deprecated and will be removed in a future version.\n",
      "Instructions for updating:\n",
      "Use tf.cast instead.\n"
     ]
    }
   ],
   "source": [
    "trial_2.fit_model()"
   ]
  },
  {
   "cell_type": "code",
   "execution_count": 7,
   "metadata": {},
   "outputs": [
    {
     "name": "stdout",
     "output_type": "stream",
     "text": [
      "__________________________________________________________________________________________________\n",
      "Layer (type)                    Output Shape         Param #     Connected to                     \n",
      "==================================================================================================\n",
      "label_ip (InputLayer)           (None, 5)            0                                            \n",
      "__________________________________________________________________________________________________\n",
      "dec_feat_ip (InputLayer)        (None, 6, 10)        0                                            \n",
      "__________________________________________________________________________________________________\n",
      "gru_seq (GRU)                   (None, 5)            240         dec_feat_ip[0][0]                \n",
      "                                                                 label_ip[0][0]                   \n",
      "__________________________________________________________________________________________________\n",
      "cat (Concatenate)               (None, 10)           0           label_ip[0][0]                   \n",
      "                                                                 gru_seq[0][0]                    \n",
      "__________________________________________________________________________________________________\n",
      "op_sent (Dense)                 (None, 10)           110         cat[0][0]                        \n",
      "==================================================================================================\n",
      "Total params: 350\n",
      "Trainable params: 350\n",
      "Non-trainable params: 0\n",
      "__________________________________________________________________________________________________\n"
     ]
    }
   ],
   "source": [
    "trial_2.combined_model.summary()"
   ]
  },
  {
   "cell_type": "code",
   "execution_count": 8,
   "metadata": {},
   "outputs": [],
   "source": [
    "x = np.array(trial_2.df.iloc[10, 0:4])"
   ]
  },
  {
   "cell_type": "code",
   "execution_count": 9,
   "metadata": {},
   "outputs": [
    {
     "data": {
      "text/plain": [
       "'S 4R E'"
      ]
     },
     "execution_count": 9,
     "metadata": {},
     "output_type": "execute_result"
    }
   ],
   "source": [
    "' '.join(trial_2.predict(x)[0])"
   ]
  },
  {
   "cell_type": "code",
   "execution_count": 10,
   "metadata": {},
   "outputs": [
    {
     "name": "stdout",
     "output_type": "stream",
     "text": [
      "actual vs predicted:  ['S', '4L', '3R', '3L', '4L', 'E']  vs  S 4L 3R 3L 4L E labels:  1 1\n",
      "actual vs predicted:  ['S', '4R', 'E']  vs  S 4R E labels:  2 2\n",
      "actual vs predicted:  ['S', '4L', '3L', 'E']  vs  S 4L 3L E labels:  0 0\n",
      "actual vs predicted:  ['S', '4L', '3R', '3L', '4L', 'E']  vs  S 4L 3R 3L 4L E labels:  1 1\n",
      "actual vs predicted:  ['S', '4R', 'E']  vs  S 4R E labels:  2 2\n",
      "actual vs predicted:  ['S', '4R', 'E']  vs  S 4R E labels:  2 2\n",
      "actual vs predicted:  ['S', '4L', '3R', '3L', '4L', 'E']  vs  S 4L 3R 3L 4L E labels:  1 1\n",
      "actual vs predicted:  ['S', '4R', 'E']  vs  S 4R E labels:  2 2\n",
      "actual vs predicted:  ['S', '4L', '3R', '3L', '4L', 'E']  vs  S 4L 3R 3L 4L E labels:  1 1\n",
      "actual vs predicted:  ['S', '4R', 'E']  vs  S E labels:  1 1\n",
      " -- Path mismatch -- \n"
     ]
    },
    {
     "name": "stderr",
     "output_type": "stream",
     "text": [
      "/home/shakkeel/anaconda3/envs/test_imly/lib/python3.6/site-packages/nltk/translate/bleu_score.py:523: UserWarning: \n",
      "The hypothesis contains 0 counts of 2-gram overlaps.\n",
      "Therefore the BLEU score evaluates to 0, independently of\n",
      "how many N-gram overlaps of lower order it contains.\n",
      "Consider using lower n-gram order or use SmoothingFunction()\n",
      "  warnings.warn(_msg)\n",
      "/home/shakkeel/anaconda3/envs/test_imly/lib/python3.6/site-packages/nltk/translate/bleu_score.py:523: UserWarning: \n",
      "The hypothesis contains 0 counts of 3-gram overlaps.\n",
      "Therefore the BLEU score evaluates to 0, independently of\n",
      "how many N-gram overlaps of lower order it contains.\n",
      "Consider using lower n-gram order or use SmoothingFunction()\n",
      "  warnings.warn(_msg)\n",
      "/home/shakkeel/anaconda3/envs/test_imly/lib/python3.6/site-packages/nltk/translate/bleu_score.py:523: UserWarning: \n",
      "The hypothesis contains 0 counts of 4-gram overlaps.\n",
      "Therefore the BLEU score evaluates to 0, independently of\n",
      "how many N-gram overlaps of lower order it contains.\n",
      "Consider using lower n-gram order or use SmoothingFunction()\n",
      "  warnings.warn(_msg)\n"
     ]
    },
    {
     "name": "stdout",
     "output_type": "stream",
     "text": [
      "actual vs predicted:  ['S', '4R', 'E']  vs  S 4R E labels:  2 2\n",
      "actual vs predicted:  ['S', '4L', '3L', 'E']  vs  S 4L 3L E labels:  0 0\n",
      "actual vs predicted:  ['S', '4L', '3L', 'E']  vs  S 4L 3L E labels:  0 0\n",
      "actual vs predicted:  ['S', '4R', 'E']  vs  S 4R E labels:  2 2\n",
      "actual vs predicted:  ['S', '4R', 'E']  vs  S 4R E labels:  2 2\n",
      "actual vs predicted:  ['S', '4R', 'E']  vs  S 4R E labels:  2 2\n",
      "actual vs predicted:  ['S', '4L', '3R', '3L', '4L', 'E']  vs  S 4L 3R 3L 4L E labels:  1 1\n",
      "actual vs predicted:  ['S', '4L', '3R', '3R', '4R', 'E']  vs  S 4L 3R 3L E labels:  1 1\n",
      " -- Path mismatch -- \n",
      "actual vs predicted:  ['S', '4L', '3L', 'E']  vs  S 4L 3L E labels:  0 0\n",
      "actual vs predicted:  ['S', '4R', 'E']  vs  S 4R E labels:  2 2\n",
      "actual vs predicted:  ['S', '4L', '3R', '3L', '4L', 'E']  vs  S 4L 3R 3L 4L E labels:  1 1\n",
      "actual vs predicted:  ['S', '4L', '3R', '3L', '4L', 'E']  vs  S 4L 3R 3L 4L E labels:  1 1\n",
      "actual vs predicted:  ['S', '4L', '3L', 'E']  vs  S 4L 3L E labels:  0 0\n",
      "actual vs predicted:  ['S', '4R', 'E']  vs  S 4R E labels:  2 1\n",
      "actual vs predicted:  ['S', '4R', 'E']  vs  S 4R E labels:  2 2\n",
      "actual vs predicted:  ['S', '4R', 'E']  vs  S 4R E labels:  2 2\n",
      "actual vs predicted:  ['S', '4R', 'E']  vs  S 4R E labels:  2 2\n",
      "actual vs predicted:  ['S', '4L', '3R', '3L', '4R', 'E']  vs  S 4R E labels:  2 2\n",
      " -- Path mismatch -- \n",
      "actual vs predicted:  ['S', '4L', '3R', '3L', '4L', 'E']  vs  S 4L 3R 3L 4L E labels:  1 1\n",
      "actual vs predicted:  ['S', '4L', '3R', '3L', '4L', 'E']  vs  S 4L 3R 3L 4L E labels:  1 1\n",
      "actual vs predicted:  ['S', '4R', 'E']  vs  S 4R E labels:  2 2\n",
      "actual vs predicted:  ['S', '4L', '3R', '3L', '4L', 'E']  vs  S 4L 3R 3L 4L E labels:  1 1\n",
      "actual vs predicted:  ['S', '4L', '3R', '3L', '4L', 'E']  vs  S 4L 3R 3L 4L E labels:  1 1\n",
      "actual vs predicted:  ['S', '4L', '3R', '3R', '4L', 'E']  vs  S 4L 3R 3R 4L E labels:  2 1\n",
      "actual vs predicted:  ['S', '4L', '3R', '3L', '4L', 'E']  vs  S 4L 3R 3L 4L E labels:  1 1\n",
      "actual vs predicted:  ['S', '4R', 'E']  vs  S 4R E labels:  2 2\n",
      "actual vs predicted:  ['S', '4L', '3L', 'E']  vs  S 4L 3L E labels:  0 0\n",
      "actual vs predicted:  ['S', '4L', '3R', '3L', '4L', 'E']  vs  S 4L 3R 3L 4L E labels:  1 1\n",
      "actual vs predicted:  ['S', '4R', 'E']  vs  S 4R E labels:  2 2\n",
      "actual vs predicted:  ['S', '4L', '3R', '3L', '4L', 'E']  vs  S 4L 3R 3L 4L E labels:  1 1\n",
      "actual vs predicted:  ['S', '4L', '3L', 'E']  vs  S 4L 3L E labels:  0 0\n",
      "actual vs predicted:  ['S', '4L', '3L', 'E']  vs  S 4L 3L E labels:  0 0\n",
      "actual vs predicted:  ['S', '4L', '3R', '3L', '4L', 'E']  vs  S 4L 3R 3L 4L E labels:  1 1\n",
      "actual vs predicted:  ['S', '4R', 'E']  vs  S 4R E labels:  2 2\n",
      "actual vs predicted:  ['S', '4L', '3L', 'E']  vs  S 4L 3L E labels:  0 0\n",
      "actual vs predicted:  ['S', '4L', '3R', '3L', '4L', 'E']  vs  S 4L 3R 3L 4L E labels:  1 1\n",
      "actual vs predicted:  ['S', '4L', '3L', 'E']  vs  S 4L 3L E labels:  0 0\n",
      "actual vs predicted:  ['S', '4L', '3L', 'E']  vs  S 4L 3L E labels:  0 0\n",
      "actual vs predicted:  ['S', '4L', '3R', '3L', '4L', 'E']  vs  S 4L 3R 3L 4L E labels:  1 1\n",
      "actual vs predicted:  ['S', '4L', '3R', '3R', '4L', 'E']  vs  S 4L 3R 3R 4L E labels:  2 1\n",
      "actual vs predicted:  ['S', '4R', 'E']  vs  S 4R E labels:  2 2\n",
      "actual vs predicted:  ['S', '4L', '3L', 'E']  vs  S 4L 3L E labels:  0 0\n",
      "actual vs predicted:  ['S', '4L', '3L', 'E']  vs  S 4L 3L E labels:  0 0\n",
      "actual vs predicted:  ['S', '4L', '3R', '3R', '4L', 'E']  vs  S 3R 3R 4L E labels:  2 2\n",
      " -- Path mismatch -- \n",
      "actual vs predicted:  ['S', '4L', '3L', 'E']  vs  S 4L 3L E labels:  0 0\n",
      "actual vs predicted:  ['S', '4L', '3L', 'E']  vs  S 4L 3L E labels:  0 0\n",
      "actual vs predicted:  ['S', '4R', 'E']  vs  S 4R E labels:  2 2\n",
      "actual vs predicted:  ['S', '4L', '3R', '3L', '4L', 'E']  vs  S 4L 3R 3L 4L E labels:  1 1\n",
      "actual vs predicted:  ['S', '4L', '3R', '3L', '4L', 'E']  vs  S 4L 3R 3L 4L E labels:  1 1\n",
      "actual vs predicted:  ['S', '4L', '3L', 'E']  vs  S 4L 3L E labels:  0 0\n",
      "actual vs predicted:  ['S', '4L', '3L', 'E']  vs  S 4L 3L E labels:  0 0\n",
      "actual vs predicted:  ['S', '4L', '3L', 'E']  vs  S 4L 3L E labels:  0 0\n",
      "actual vs predicted:  ['S', '4L', '3R', '3L', '4L', 'E']  vs  S 4L 3R 3L 4L E labels:  1 1\n",
      "actual vs predicted:  ['S', '4L', '3L', 'E']  vs  S 4L 3L E labels:  0 0\n",
      "actual vs predicted:  ['S', '4R', 'E']  vs  S 4R E labels:  2 2\n",
      "actual vs predicted:  ['S', '4L', '3L', 'E']  vs  S 4L 3L E labels:  0 0\n",
      "actual vs predicted:  ['S', '4L', '3L', 'E']  vs  S 4L 3L E labels:  0 0\n",
      "actual vs predicted:  ['S', '4L', '3L', 'E']  vs  S 4L 3L E labels:  0 0\n",
      "actual vs predicted:  ['S', '4R', 'E']  vs  S 4R E labels:  2 2\n",
      "actual vs predicted:  ['S', '4R', 'E']  vs  S 4R E labels:  2 2\n",
      "actual vs predicted:  ['S', '4L', '3L', 'E']  vs  S 4L 3L E labels:  0 0\n",
      "actual vs predicted:  ['S', '4L', '3R', '3L', '4L', 'E']  vs  S 4L 3R 3R 4L E labels:  1 1\n",
      " -- Path mismatch -- \n",
      "actual vs predicted:  ['S', '4L', '3L', 'E']  vs  S 4L 3L E labels:  0 0\n",
      "actual vs predicted:  ['S', '4L', '3L', 'E']  vs  S 4L 3L E labels:  0 0\n",
      "actual vs predicted:  ['S', '4R', 'E']  vs  S 4R E labels:  2 2\n",
      "actual vs predicted:  ['S', '4L', '3R', '3L', '4L', 'E']  vs  S 4L 3R 3L 4L E labels:  1 1\n",
      "actual vs predicted:  ['S', '4L', '3R', '3L', '4L', 'E']  vs  S 4L 3R 3L 4L E labels:  1 1\n",
      "actual vs predicted:  ['S', '4L', '3R', '3L', '4L', 'E']  vs  S 4L 3R 3L 4L E labels:  1 1\n",
      "actual vs predicted:  ['S', '4L', '3L', 'E']  vs  S 4L 3L E labels:  0 0\n",
      "actual vs predicted:  ['S', '4L', '3L', 'E']  vs  S 4L 3L E labels:  0 0\n",
      "actual vs predicted:  ['S', '4R', 'E']  vs  S 4R E labels:  2 2\n",
      "actual vs predicted:  ['S', '4R', 'E']  vs  S 4R E labels:  2 2\n",
      "actual vs predicted:  ['S', '4L', '3L', 'E']  vs  S 4L 3L E labels:  0 0\n",
      "actual vs predicted:  ['S', '4R', 'E']  vs  S 4R E labels:  2 2\n",
      "actual vs predicted:  ['S', '4L', '3R', '3L', '4L', 'E']  vs  S 4L 3R 3L 4L E labels:  1 1\n",
      "actual vs predicted:  ['S', '4L', '3R', '3L', '4L', 'E']  vs  S 4L 3R 3L 4L E labels:  1 1\n",
      "actual vs predicted:  ['S', '4R', 'E']  vs  S 4R E labels:  2 2\n",
      "actual vs predicted:  ['S', '4L', '3L', 'E']  vs  S 4L 3L E labels:  0 0\n",
      "actual vs predicted:  ['S', '4L', '3R', '3L', '4L', 'E']  vs  S 4L 3R 3L 4L E labels:  1 1\n",
      "actual vs predicted:  ['S', '4L', '3R', '3L', '4L', 'E']  vs  S 4L 3R 3L 4L E labels:  1 1\n",
      "actual vs predicted:  ['S', '4L', '3L', 'E']  vs  S 4L 3L E labels:  0 0\n",
      "actual vs predicted:  ['S', '4L', '3L', 'E']  vs  S 4L 3L E labels:  0 0\n",
      "actual vs predicted:  ['S', '4L', '3L', 'E']  vs  S 4L 3L E labels:  0 0\n",
      "actual vs predicted:  ['S', '4L', '3L', 'E']  vs  S 4L 3L E labels:  0 0\n",
      "actual vs predicted:  ['S', '4L', '3L', 'E']  vs  S 4L 3L E labels:  0 0\n",
      "actual vs predicted:  ['S', '4L', '3R', '3R', '4L', 'E']  vs  S 4R E labels:  1 1\n",
      " -- Path mismatch -- \n",
      "actual vs predicted:  ['S', '4L', '3L', 'E']  vs  S 4L 3L E labels:  0 0\n",
      "actual vs predicted:  ['S', '4L', '3R', '3L', '4L', 'E']  vs  S 4L 3R 3L 4L E labels:  1 1\n",
      "actual vs predicted:  ['S', '4R', 'E']  vs  S 4R E labels:  2 2\n",
      "actual vs predicted:  ['S', '4L', '3R', '3L', '4L', 'E']  vs  S 4L 3R 3L 4L E labels:  1 1\n",
      "actual vs predicted:  ['S', '4L', '3R', '3L', '4L', 'E']  vs  S 4L 3R 3L 4L E labels:  1 1\n",
      "actual vs predicted:  ['S', '4L', '3R', '3L', '4L', 'E']  vs  S 4L 3R 3L 4L E labels:  1 1\n",
      "actual vs predicted:  ['S', '4R', 'E']  vs  S 4R E labels:  2 2\n",
      "actual vs predicted:  ['S', '4R', 'E']  vs  S 4R E labels:  2 2\n",
      "actual vs predicted:  ['S', '4L', '3R', '3L', '4L', 'E']  vs  S 4L 3R 3L 4L E labels:  1 1\n",
      "actual vs predicted:  ['S', '4L', '3R', '3L', '4L', 'E']  vs  S 4L 3R 3L 4L E labels:  1 1\n",
      "actual vs predicted:  ['S', '4L', '3R', '3L', '4L', 'E']  vs  S 4L 3R 3L 4L E labels:  1 1\n",
      "actual vs predicted:  ['S', '4R', 'E']  vs  S E labels:  2 1\n",
      " -- Path mismatch -- \n",
      "actual vs predicted:  ['S', '4L', '3L', 'E']  vs  S 4L 3L E labels:  0 0\n",
      "actual vs predicted:  ['S', '4R', 'E']  vs  S 4R E labels:  2 2\n",
      "actual vs predicted:  ['S', '4L', '3R', '3L', '4L', 'E']  vs  S 4L 3R 3L 4L E labels:  1 1\n",
      "actual vs predicted:  ['S', '4L', '3L', 'E']  vs  S 4L 3L E labels:  0 0\n",
      "actual vs predicted:  ['S', '4L', '3R', '3L', '4L', 'E']  vs  S 4L 3R 3L 4L E labels:  1 1\n",
      "actual vs predicted:  ['S', '4L', '3R', '3L', '4L', 'E']  vs  S 4L 3R 3L 4L E labels:  1 1\n",
      "actual vs predicted:  ['S', '4L', '3R', '3L', '4L', 'E']  vs  S 4L 3R 3L 4L E labels:  1 1\n"
     ]
    },
    {
     "name": "stdout",
     "output_type": "stream",
     "text": [
      "actual vs predicted:  ['S', '4L', '3R', '3L', '4L', 'E']  vs  S 4L 3R 3L 4L E labels:  1 1\n",
      "actual vs predicted:  ['S', '4L', '3L', 'E']  vs  S 4L 3L E labels:  0 0\n",
      "actual vs predicted:  ['S', '4L', '3R', '3R', '4L', 'E']  vs  S 4L 3R 3L 4L E labels:  2 1\n",
      " -- Path mismatch -- \n",
      "actual vs predicted:  ['S', '4L', '3L', 'E']  vs  S 4L 3L E labels:  0 0\n",
      "actual vs predicted:  ['S', '4R', 'E']  vs  S 4R E labels:  2 2\n",
      "actual vs predicted:  ['S', '4R', 'E']  vs  S 4R E labels:  2 2\n",
      "actual vs predicted:  ['S', '4L', '3L', 'E']  vs  S 4L 3L E labels:  0 0\n",
      "actual vs predicted:  ['S', '4R', 'E']  vs  S 4R E labels:  2 2\n",
      "actual vs predicted:  ['S', '4R', 'E']  vs  S 4R E labels:  2 2\n",
      "actual vs predicted:  ['S', '4R', 'E']  vs  S 4R E labels:  2 2\n",
      "actual vs predicted:  ['S', '4L', '3L', 'E']  vs  S 4L 3L E labels:  0 0\n",
      "actual vs predicted:  ['S', '4R', 'E']  vs  S 4R E labels:  2 2\n",
      "actual vs predicted:  ['S', '4L', '3R', '3L', '4L', 'E']  vs  S 4L 3R 3L 4L E labels:  1 1\n",
      "actual vs predicted:  ['S', '4R', 'E']  vs  S 4R E labels:  2 2\n",
      "actual vs predicted:  ['S', '4R', 'E']  vs  S 4R E labels:  2 2\n",
      "actual vs predicted:  ['S', '4L', '3R', '3L', '4L', 'E']  vs  S 4L 3R 3L 4L E labels:  1 1\n",
      "actual vs predicted:  ['S', '4R', 'E']  vs  S 4R E labels:  2 2\n",
      "actual vs predicted:  ['S', '4R', 'E']  vs  S 4R E labels:  2 2\n",
      "actual vs predicted:  ['S', '4L', '3R', '3L', '4L', 'E']  vs  S 4L 3R 3L 4L E labels:  1 1\n",
      "actual vs predicted:  ['S', '4L', '3L', 'E']  vs  S 4L 3L E labels:  0 0\n",
      "actual vs predicted:  ['S', '4L', '3L', 'E']  vs  S 4L 3L E labels:  0 0\n",
      "actual vs predicted:  ['S', '4L', '3L', 'E']  vs  S 4L 3L E labels:  0 0\n",
      "actual vs predicted:  ['S', '4L', '3R', '3L', '4L', 'E']  vs  S 4L 3R 3L 4L E labels:  1 1\n",
      "actual vs predicted:  ['S', '4L', '3R', '3L', '4L', 'E']  vs  S 4L 3R 3L 4L E labels:  1 1\n",
      "actual vs predicted:  ['S', '4L', '3L', 'E']  vs  S 4L 3L E labels:  0 0\n",
      "actual vs predicted:  ['S', '4R', 'E']  vs  S 4R E labels:  2 2\n",
      "actual vs predicted:  ['S', '4R', 'E']  vs  S 4R E labels:  2 2\n",
      "actual vs predicted:  ['S', '4L', '3L', 'E']  vs  S 4L 3L E labels:  0 0\n",
      "actual vs predicted:  ['S', '4R', 'E']  vs  S 4R E labels:  2 2\n",
      "actual vs predicted:  ['S', '4L', '3L', 'E']  vs  S 4L 3L E labels:  0 0\n",
      "actual vs predicted:  ['S', '4L', '3L', 'E']  vs  S 4L 3L E labels:  0 0\n",
      "actual vs predicted:  ['S', '4L', '3R', '3L', '4L', 'E']  vs  S 4L 3R 3L 4L E labels:  1 1\n",
      "actual vs predicted:  ['S', '4L', '3R', '3L', '4L', 'E']  vs  S 4L 3R 3L 4L E labels:  1 1\n",
      "actual vs predicted:  ['S', '4L', '3L', 'E']  vs  S 4L 3L E labels:  0 0\n",
      "actual vs predicted:  ['S', '4L', '3L', 'E']  vs  S 4L 3L E labels:  0 0\n",
      "\n",
      "Label accuracy -  0.9666666666666667\n",
      "Path metric (Jaccard) -  0.9821904761904762\n",
      "Path metric (Levenshtein) -  3.92\n",
      "Path mismatch count -  8\n",
      "Right traverse count -  4\n",
      "Bleu score of paths -  0.9636259415922143\n"
     ]
    }
   ],
   "source": [
    "trial_2.score()"
   ]
  },
  {
   "cell_type": "markdown",
   "metadata": {},
   "source": [
    "---"
   ]
  },
  {
   "cell_type": "markdown",
   "metadata": {},
   "source": [
    "### Trials"
   ]
  },
  {
   "cell_type": "code",
   "execution_count": 15,
   "metadata": {},
   "outputs": [],
   "source": [
    "actual_path = trial_2.df.iloc[1, 8]\n",
    "actual_path_tok = [trial_2.char_indices[char] for char in actual_path]"
   ]
  },
  {
   "cell_type": "code",
   "execution_count": 16,
   "metadata": {},
   "outputs": [
    {
     "data": {
      "text/plain": [
       "[0, 9, 6, 1]"
      ]
     },
     "execution_count": 16,
     "metadata": {},
     "output_type": "execute_result"
    }
   ],
   "source": [
    "actual_path_tok"
   ]
  },
  {
   "cell_type": "code",
   "execution_count": 17,
   "metadata": {},
   "outputs": [
    {
     "data": {
      "text/plain": [
       "{'S': 0,\n",
       " 'E': 1,\n",
       " '1L': 2,\n",
       " '1R': 3,\n",
       " '2L': 4,\n",
       " '2R': 5,\n",
       " '3L': 6,\n",
       " '3R': 7,\n",
       " '4L': 8,\n",
       " '4R': 9}"
      ]
     },
     "execution_count": 17,
     "metadata": {},
     "output_type": "execute_result"
    }
   ],
   "source": [
    "trial_2.char_indices"
   ]
  },
  {
   "cell_type": "code",
   "execution_count": 22,
   "metadata": {},
   "outputs": [
    {
     "data": {
      "text/plain": [
       "1.0"
      ]
     },
     "execution_count": 22,
     "metadata": {},
     "output_type": "execute_result"
    }
   ],
   "source": [
    "trial_2.get_j_coeff(actual_path_tok, [0,9,6,1])"
   ]
  },
  {
   "cell_type": "code",
   "execution_count": 13,
   "metadata": {},
   "outputs": [
    {
     "data": {
      "text/plain": [
       "0"
      ]
     },
     "execution_count": 13,
     "metadata": {},
     "output_type": "execute_result"
    }
   ],
   "source": [
    "import distance\n",
    "distance.levenshtein(['S', 'L', 'E'],['S', 'L', 'E'])"
   ]
  },
  {
   "cell_type": "code",
   "execution_count": 14,
   "metadata": {},
   "outputs": [],
   "source": [
    "## Extracting failure paths\n",
    "\n",
    "a = ['S', '4R', '4L', '3L', 'E'] # Actual\n",
    "b = ['S', '4R', '4L', '3L', 'E'] # Predicted\n",
    "# Target - 1, versicolor\n",
    "list(set(a) - set(b)) == [] # order doesn't matter. Lost in BLEU score\n",
    "\n",
    "## Failure scenarios\n",
    "# Case 1 - Same path different order.\n",
    "# Sticking to the order would fail. Should we re-order and then use?\n",
    "a = ['S', '4R', '4L', '3L', 'E']\n",
    "b = ['S', '4L', '3L','4R', 'E']\n",
    "\n",
    "# Case 2 - Different path, right prediction\n",
    "# Prediction is right but path is entirely different\n",
    "a = ['S', '4R', '4L', '3L', 'E']\n",
    "b = ['S', '4R', 'E'] # Not a leaf node !\n",
    "\n",
    "# Ex actual path - ['S', '4R', '4L', '3L', 'E']\n",
    "# Perfect match \n",
    "# Order mismatch - ['S', '4L', '3L', '4R', 'E'] -- Check at pred level\n",
    "# Subset of the tree - ['S', '4L','4L','4L' 'E']"
   ]
  },
  {
   "cell_type": "code",
   "execution_count": 15,
   "metadata": {},
   "outputs": [
    {
     "data": {
      "text/plain": [
       "False"
      ]
     },
     "execution_count": 15,
     "metadata": {},
     "output_type": "execute_result"
    }
   ],
   "source": [
    "a == b # order matters"
   ]
  },
  {
   "cell_type": "code",
   "execution_count": 17,
   "metadata": {},
   "outputs": [
    {
     "data": {
      "text/plain": [
       "'E'"
      ]
     },
     "execution_count": 17,
     "metadata": {},
     "output_type": "execute_result"
    }
   ],
   "source": [
    "a[-1]"
   ]
  },
  {
   "cell_type": "code",
   "execution_count": 121,
   "metadata": {},
   "outputs": [],
   "source": [
    "test_path = list(''.join(a))[1:-1]"
   ]
  },
  {
   "cell_type": "code",
   "execution_count": 122,
   "metadata": {},
   "outputs": [],
   "source": [
    "for i in range(len(test_path)):\n",
    "    if i%2 == 0:\n",
    "        test_path[i] = int(test_path[i])"
   ]
  },
  {
   "cell_type": "code",
   "execution_count": 123,
   "metadata": {},
   "outputs": [
    {
     "data": {
      "text/plain": [
       "[4, 'R', 4, 'L', 3, 'L']"
      ]
     },
     "execution_count": 123,
     "metadata": {},
     "output_type": "execute_result"
    }
   ],
   "source": [
    "test_path"
   ]
  },
  {
   "cell_type": "code",
   "execution_count": 14,
   "metadata": {},
   "outputs": [
    {
     "data": {
      "text/plain": [
       "DecisionTreeClassifier(class_weight=None, criterion='gini', max_depth=None,\n",
       "                       max_features=None, max_leaf_nodes=None,\n",
       "                       min_impurity_decrease=0.0, min_impurity_split=None,\n",
       "                       min_samples_leaf=1, min_samples_split=2,\n",
       "                       min_weight_fraction_leaf=0.0, presort=False,\n",
       "                       random_state=0, splitter='best')"
      ]
     },
     "execution_count": 14,
     "metadata": {},
     "output_type": "execute_result"
    }
   ],
   "source": [
    "trial_2.clf"
   ]
  },
  {
   "cell_type": "code",
   "execution_count": 15,
   "metadata": {},
   "outputs": [
    {
     "data": {
      "image/png": "[encoded data removed]",
      "text/plain": [
       "<IPython.core.display.Image object>"
      ]
     },
     "execution_count": 15,
     "metadata": {},
     "output_type": "execute_result"
    }
   ],
   "source": [
    "from IPython.display import Image  \n",
    "from sklearn import tree\n",
    "import pydotplus\n",
    "\n",
    "dot_data = tree.export_graphviz(trial_2.clf, out_file=None, \n",
    "                                feature_names=iris.feature_names,  \n",
    "                                class_names=iris.target_names)\n",
    "\n",
    "graph = pydotplus.graph_from_dot_data(dot_data)  \n",
    "\n",
    "Image(graph.create_png())\n",
    "\n"
   ]
  },
  {
   "cell_type": "code",
   "execution_count": 25,
   "metadata": {},
   "outputs": [
    {
     "data": {
      "text/plain": [
       "['sepal length (cm)',\n",
       " 'sepal width (cm)',\n",
       " 'petal length (cm)',\n",
       " 'petal width (cm)']"
      ]
     },
     "execution_count": 25,
     "metadata": {},
     "output_type": "execute_result"
    }
   ],
   "source": [
    "iris.feature_names"
   ]
  },
  {
   "cell_type": "code",
   "execution_count": 16,
   "metadata": {},
   "outputs": [
    {
     "data": {
      "text/plain": [
       "array(['setosa', 'versicolor', 'virginica'], dtype='<U10')"
      ]
     },
     "execution_count": 16,
     "metadata": {},
     "output_type": "execute_result"
    }
   ],
   "source": [
    "iris.target_names"
   ]
  },
  {
   "cell_type": "code",
   "execution_count": 18,
   "metadata": {},
   "outputs": [
    {
     "data": {
      "text/plain": [
       "array([ 3, -2,  3,  2, -2, -2, -2])"
      ]
     },
     "execution_count": 18,
     "metadata": {},
     "output_type": "execute_result"
    }
   ],
   "source": [
    "trial_2.clf.tree_.feature"
   ]
  },
  {
   "cell_type": "code",
   "execution_count": 19,
   "metadata": {},
   "outputs": [
    {
     "data": {
      "text/plain": [
       "array([-0.5256512 , -2.        ,  0.72485456,  0.87643313, -2.        ,\n",
       "       -2.        , -2.        ])"
      ]
     },
     "execution_count": 19,
     "metadata": {},
     "output_type": "execute_result"
    }
   ],
   "source": [
    "trial_2.clf.tree_.threshold"
   ]
  },
  {
   "cell_type": "code",
   "execution_count": 21,
   "metadata": {},
   "outputs": [
    {
     "data": {
      "text/plain": [
       "(0, -1)"
      ]
     },
     "execution_count": 21,
     "metadata": {},
     "output_type": "execute_result"
    }
   ],
   "source": [
    "stack = [(0, -1)]\n",
    "stack.pop()"
   ]
  },
  {
   "cell_type": "code",
   "execution_count": 23,
   "metadata": {},
   "outputs": [
    {
     "data": {
      "text/plain": [
       "array([ 1, -1,  3,  4, -1, -1, -1])"
      ]
     },
     "execution_count": 23,
     "metadata": {},
     "output_type": "execute_result"
    }
   ],
   "source": [
    "trial_2.clf.tree_.children_left # left nodes"
   ]
  },
  {
   "cell_type": "code",
   "execution_count": 24,
   "metadata": {},
   "outputs": [
    {
     "data": {
      "text/plain": [
       "array([ 2, -1,  6,  5, -1, -1, -1])"
      ]
     },
     "execution_count": 24,
     "metadata": {},
     "output_type": "execute_result"
    }
   ],
   "source": [
    "trial_2.clf.tree_.children_right # right nodes"
   ]
  },
  {
   "cell_type": "code",
   "execution_count": 109,
   "metadata": {},
   "outputs": [],
   "source": [
    "pred_path = ['L', 'L', 'R']\n",
    "pred_features = [4, 3, 4]"
   ]
  },
  {
   "cell_type": "code",
   "execution_count": 110,
   "metadata": {},
   "outputs": [],
   "source": [
    "n_nodes = trial_2.clf.tree_.node_count\n",
    "children_left = trial_2.clf.tree_.children_left\n",
    "children_right = trial_2.clf.tree_.children_right\n",
    "feature = trial_2.clf.tree_.feature\n",
    "# threshold = trial_2.clf.tree_.threshold\n",
    "\n",
    "\n",
    "# The tree structure can be traversed to compute various properties such\n",
    "# as the depth of each node and whether or not it is a leaf.\n",
    "# node_depth = np.zeros(shape=n_nodes, dtype=np.int64)\n",
    "is_leaves = np.zeros(shape=n_nodes, dtype=bool)\n",
    "stack = [(0, -1)]  # seed is the root node id and its parent depth\n",
    "while len(stack) > 0:\n",
    "    node_id, parent_depth = stack.pop()\n",
    "    node_depth[node_id] = parent_depth + 1\n",
    "\n",
    "    # If we have a test node\n",
    "    if (children_left[node_id] != children_right[node_id]):\n",
    "        stack.append((children_left[node_id], parent_depth + 1))\n",
    "        stack.append((children_right[node_id], parent_depth + 1))\n",
    "    else:\n",
    "        is_leaves[node_id] = True\n",
    "\n",
    "# print(\"The binary tree structure has %s nodes and has \"\n",
    "#       \"the following tree structure:\"\n",
    "#       % n_nodes)\n",
    "# for i in range(n_nodes):\n",
    "#     if is_leaves[i]:\n",
    "#         print(\"%snode=%s leaf node.\" % (node_depth[i] * \"\\t\", i))\n",
    "#     else:\n",
    "#         print(\"%snode=%s test node: go to node %s if X[:, %s] <= %s else to \"\n",
    "#               \"node %s.\"\n",
    "#               % (node_depth[i] * \"\\t\",\n",
    "#                  i,\n",
    "#                  children_left[i],\n",
    "#                  feature[i],\n",
    "#                  threshold[i],\n",
    "#                  children_right[i],\n",
    "#                  ))\n",
    "        \n",
    "\n",
    "node = 0\n",
    "pred_target = -1\n",
    "for i in range(len(pred_path)):\n",
    "    if pred_path[i] == 'L':\n",
    "        if feature[node]+1 == pred_features[i]:\n",
    "            node = children_left[node]\n",
    "        else:\n",
    "            pred_target = -1 # Remove for \"subset\" checks\n",
    "            break\n",
    "    elif pred_path[i] == 'R':\n",
    "        print(node)\n",
    "        if feature[node]+1 == pred_features[i]:\n",
    "            node = children_right[node]\n",
    "        else:\n",
    "            pred_target = -1 # Remove for \"subset\" checks\n",
    "            break\n",
    "    if is_leaves[node]:\n",
    "        for i, x in enumerate(trial_2.clf.tree_.value[node][0]):\n",
    "            if x > 0:\n",
    "                pred_target = i"
   ]
  },
  {
   "cell_type": "code",
   "execution_count": 111,
   "metadata": {},
   "outputs": [
    {
     "data": {
      "text/plain": [
       "-1"
      ]
     },
     "execution_count": 111,
     "metadata": {},
     "output_type": "execute_result"
    }
   ],
   "source": [
    "pred_target"
   ]
  },
  {
   "cell_type": "code",
   "execution_count": 26,
   "metadata": {},
   "outputs": [
    {
     "data": {
      "text/plain": [
       "array([ 3, -2,  3,  2, -2, -2, -2])"
      ]
     },
     "execution_count": 26,
     "metadata": {},
     "output_type": "execute_result"
    }
   ],
   "source": [
    "feature"
   ]
  },
  {
   "cell_type": "code",
   "execution_count": 37,
   "metadata": {},
   "outputs": [
    {
     "data": {
      "text/plain": [
       "array([23.,  0.,  0.])"
      ]
     },
     "execution_count": 37,
     "metadata": {},
     "output_type": "execute_result"
    }
   ],
   "source": [
    "trial_2.clf.tree_.value[1][0]"
   ]
  },
  {
   "cell_type": "code",
   "execution_count": 56,
   "metadata": {},
   "outputs": [
    {
     "data": {
      "text/plain": [
       "array([ 1, -1,  3,  4, -1, -1, -1])"
      ]
     },
     "execution_count": 56,
     "metadata": {},
     "output_type": "execute_result"
    }
   ],
   "source": [
    "children_left"
   ]
  },
  {
   "cell_type": "code",
   "execution_count": 57,
   "metadata": {},
   "outputs": [
    {
     "data": {
      "text/plain": [
       "array([ 3, -2,  3,  2, -2, -2, -2])"
      ]
     },
     "execution_count": 57,
     "metadata": {},
     "output_type": "execute_result"
    }
   ],
   "source": [
    "feature"
   ]
  },
  {
   "cell_type": "code",
   "execution_count": null,
   "metadata": {},
   "outputs": [],
   "source": []
  }
 ],
 "metadata": {
  "kernelspec": {
   "display_name": "Python 3",
   "language": "python",
   "name": "python3"
  },
  "language_info": {
   "codemirror_mode": {
    "name": "ipython",
    "version": 3
   },
   "file_extension": ".py",
   "mimetype": "text/x-python",
   "name": "python",
   "nbconvert_exporter": "python",
   "pygments_lexer": "ipython3",
   "version": "3.6.8"
  },
  "toc": {
   "base_numbering": 1,
   "nav_menu": {},
   "number_sections": true,
   "sideBar": true,
   "skip_h1_title": false,
   "title_cell": "Table of Contents",
   "title_sidebar": "Contents",
   "toc_cell": false,
   "toc_position": {},
   "toc_section_display": true,
   "toc_window_display": false
  }
 },
 "nbformat": 4,
 "nbformat_minor": 2
}
