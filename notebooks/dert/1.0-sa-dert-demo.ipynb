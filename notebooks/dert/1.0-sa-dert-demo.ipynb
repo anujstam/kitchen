{
 "cells": [
  {
   "cell_type": "code",
   "execution_count": 1,
   "metadata": {},
   "outputs": [
    {
     "name": "stderr",
     "output_type": "stream",
     "text": [
      "Using TensorFlow backend.\n"
     ]
    }
   ],
   "source": [
    "from sklearn.datasets import load_iris\n",
    "from sklearn.preprocessing import StandardScaler\n",
    "\n",
    "from kitchen.dert.dert_models import FeatureDrivenModel, CombinedModel\n",
    "import numpy as np"
   ]
  },
  {
   "cell_type": "code",
   "execution_count": 2,
   "metadata": {},
   "outputs": [],
   "source": [
    "iris = load_iris()\n",
    "X = iris['data']\n",
    "y = iris['target']\n",
    "scaler = StandardScaler()\n",
    "scaler.fit(X)\n",
    "X = scaler.transform(X)"
   ]
  },
  {
   "cell_type": "code",
   "execution_count": 3,
   "metadata": {},
   "outputs": [],
   "source": [
    "trial_2 = CombinedModel()"
   ]
  },
  {
   "cell_type": "code",
   "execution_count": 4,
   "metadata": {},
   "outputs": [],
   "source": [
    "trial_2.transform_data(X,y)"
   ]
  },
  {
   "cell_type": "code",
   "execution_count": 5,
   "metadata": {},
   "outputs": [
    {
     "name": "stdout",
     "output_type": "stream",
     "text": [
      "WARNING:tensorflow:From /home/shakkeel/anaconda3/envs/test_imly/lib/python3.6/site-packages/tensorflow/python/framework/op_def_library.py:263: colocate_with (from tensorflow.python.framework.ops) is deprecated and will be removed in a future version.\n",
      "Instructions for updating:\n",
      "Colocations handled automatically by placer.\n"
     ]
    }
   ],
   "source": [
    "trial_2.create_model()"
   ]
  },
  {
   "cell_type": "code",
   "execution_count": 6,
   "metadata": {},
   "outputs": [
    {
     "name": "stdout",
     "output_type": "stream",
     "text": [
      "WARNING:tensorflow:From /home/shakkeel/anaconda3/envs/test_imly/lib/python3.6/site-packages/tensorflow/python/ops/math_ops.py:3066: to_int32 (from tensorflow.python.ops.math_ops) is deprecated and will be removed in a future version.\n",
      "Instructions for updating:\n",
      "Use tf.cast instead.\n"
     ]
    }
   ],
   "source": [
    "trial_2.fit_model()"
   ]
  },
  {
   "cell_type": "code",
   "execution_count": 7,
   "metadata": {},
   "outputs": [
    {
     "name": "stdout",
     "output_type": "stream",
     "text": [
      "__________________________________________________________________________________________________\n",
      "Layer (type)                    Output Shape         Param #     Connected to                     \n",
      "==================================================================================================\n",
      "label_ip (InputLayer)           (None, 5)            0                                            \n",
      "__________________________________________________________________________________________________\n",
      "dec_feat_ip (InputLayer)        (None, 7, 10)        0                                            \n",
      "__________________________________________________________________________________________________\n",
      "gru_seq (GRU)                   (None, 5)            240         dec_feat_ip[0][0]                \n",
      "                                                                 label_ip[0][0]                   \n",
      "__________________________________________________________________________________________________\n",
      "cat (Concatenate)               (None, 10)           0           label_ip[0][0]                   \n",
      "                                                                 gru_seq[0][0]                    \n",
      "__________________________________________________________________________________________________\n",
      "op_sent (Dense)                 (None, 10)           110         cat[0][0]                        \n",
      "==================================================================================================\n",
      "Total params: 350\n",
      "Trainable params: 350\n",
      "Non-trainable params: 0\n",
      "__________________________________________________________________________________________________\n"
     ]
    }
   ],
   "source": [
    "trial_2.combined_model.summary()"
   ]
  },
  {
   "cell_type": "code",
   "execution_count": 8,
   "metadata": {},
   "outputs": [],
   "source": [
    "x = np.array(trial_2.df.iloc[10, 0:4])"
   ]
  },
  {
   "cell_type": "code",
   "execution_count": 9,
   "metadata": {},
   "outputs": [
    {
     "name": "stdout",
     "output_type": "stream",
     "text": [
      "7\n"
     ]
    },
    {
     "data": {
      "text/plain": [
       "'S 4R 3L E'"
      ]
     },
     "execution_count": 9,
     "metadata": {},
     "output_type": "execute_result"
    }
   ],
   "source": [
    "' '.join(trial_2.predict(x)[0])"
   ]
  },
  {
   "cell_type": "code",
   "execution_count": 10,
   "metadata": {},
   "outputs": [
    {
     "data": {
      "text/plain": [
       "0      0.310997534138703\n",
       "1    -0.5923730118389191\n",
       "2    0.13754657313091806\n",
       "3    0.13250973218556866\n",
       "4                S R L E\n",
       "5                      1\n",
       "6              [0, 4, 3]\n",
       "7            [-0.5, 0.6]\n",
       "8         [S, 4R, 3L, E]\n",
       "Name: 10, dtype: object"
      ]
     },
     "execution_count": 10,
     "metadata": {},
     "output_type": "execute_result"
    }
   ],
   "source": [
    "trial_2.df.iloc[10, 0:9]"
   ]
  },
  {
   "cell_type": "code",
   "execution_count": 11,
   "metadata": {},
   "outputs": [
    {
     "name": "stdout",
     "output_type": "stream",
     "text": [
      "7\n",
      "actual vs predicted:  ['S', '4R', '3R', '3L', '4L', 'E']  vs  S 4R 3L E labels:  1 1\n",
      "7\n",
      "actual vs predicted:  ['S', '4R', '3R', '3R', 'E']  vs  S 4R 3R 3R E labels:  2 2\n",
      "7\n",
      "actual vs predicted:  ['S', '4R', '3L', 'E']  vs  S 4R 3L E labels:  1 1\n",
      "7\n",
      "actual vs predicted:  ['S', '4L', 'E']  vs  S 4L E labels:  0 0\n",
      "7\n",
      "actual vs predicted:  ['S', '4R', '3R', '3L', '4L', 'E']  vs  S 4R 3L E labels:  1 1\n",
      "7\n",
      "actual vs predicted:  ['S', '4R', '3R', '3R', 'E']  vs  S 4R 3R 3R E labels:  2 2\n",
      "7\n",
      "actual vs predicted:  ['S', '4R', '3R', '3R', 'E']  vs  S 4R 3R 3R E labels:  2 2\n",
      "7\n",
      "actual vs predicted:  ['S', '4R', '3R', '3R', 'E']  vs  S 4R 3R 3R E labels:  2 2\n",
      "7\n",
      "actual vs predicted:  ['S', '4L', 'E']  vs  S 4L E labels:  0 0\n",
      "7\n",
      "actual vs predicted:  ['S', '4L', 'E']  vs  S 4L E labels:  0 0\n",
      "7\n",
      "actual vs predicted:  ['S', '4R', '3L', 'E']  vs  S 4R 3L E labels:  1 1\n",
      "7\n",
      "actual vs predicted:  ['S', '4L', 'E']  vs  S 4L E labels:  0 0\n",
      "7\n",
      "actual vs predicted:  ['S', '4R', '3R', '3R', 'E']  vs  S 4R 3R 3R E labels:  2 2\n",
      "7\n",
      "actual vs predicted:  ['S', '4R', '3R', '3R', 'E']  vs  S 4R 3R 3R E labels:  2 2\n",
      "7\n",
      "actual vs predicted:  ['S', '4R', '3L', 'E']  vs  S 4R 3L E labels:  1 1\n",
      "7\n",
      "actual vs predicted:  ['S', '4R', '3L', 'E']  vs  S 4R 3L E labels:  1 1\n",
      "7\n",
      "actual vs predicted:  ['S', '4R', '3R', '3R', 'E']  vs  S 4R 3R 3R E labels:  2 2\n",
      "7\n",
      "actual vs predicted:  ['S', '4L', 'E']  vs  S 4L E labels:  0 0\n",
      "7\n",
      "actual vs predicted:  ['S', '4L', 'E']  vs  S 4L E labels:  0 0\n",
      "7\n",
      "actual vs predicted:  ['S', '4L', 'E']  vs  S 4L E labels:  0 0\n",
      "7\n",
      "actual vs predicted:  ['S', '4R', '3L', 'E']  vs  S 4R 3L E labels:  1 1\n",
      "7\n",
      "actual vs predicted:  ['S', '4R', '3R', '3R', 'E']  vs  S 4R 3R 3R E labels:  2 2\n",
      "7\n",
      "actual vs predicted:  ['S', '4R', '3L', 'E']  vs  S 4R 3L E labels:  1 1\n",
      "7\n",
      "actual vs predicted:  ['S', '4R', '3L', 'E']  vs  S 4R 3L E labels:  1 1\n",
      "7\n",
      "actual vs predicted:  ['S', '4L', 'E']  vs  S 4L E labels:  0 0\n",
      "7\n",
      "actual vs predicted:  ['S', '4R', '3R', '3R', 'E']  vs  S 4R 3R 3R E labels:  2 2\n",
      "7\n",
      "actual vs predicted:  ['S', '4R', '3L', 'E']  vs  S 4R 3L E labels:  1 1\n",
      "7\n",
      "actual vs predicted:  ['S', '4R', '3R', '3R', 'E']  vs  S 4R 3R 3R E labels:  2 2\n",
      "7\n",
      "actual vs predicted:  ['S', '4R', '3R', '3R', 'E']  vs  S 4R 3R 3R E labels:  2 2\n",
      "7\n",
      "actual vs predicted:  ['S', '4L', 'E']  vs  S 4L E labels:  0 0\n",
      "7\n",
      "actual vs predicted:  ['S', '4L', 'E']  vs  S 4L E labels:  0 0\n",
      "7\n",
      "actual vs predicted:  ['S', '4R', '3R', '3R', 'E']  vs  S 4R 3R 3R E labels:  2 2\n",
      "7\n",
      "actual vs predicted:  ['S', '4R', '3L', 'E']  vs  S 4R 3L E labels:  1 1\n",
      "7\n",
      "actual vs predicted:  ['S', '4L', 'E']  vs  S 4L E labels:  0 0\n",
      "7\n",
      "actual vs predicted:  ['S', '4R', '3L', 'E']  vs  S 4R 3L E labels:  1 1\n",
      "7\n",
      "actual vs predicted:  ['S', '4R', '3R', '3R', 'E']  vs  S 4R 3R 3R E labels:  2 2\n",
      "7\n",
      "actual vs predicted:  ['S', '4L', 'E']  vs  S 4L E labels:  0 0\n",
      "7\n",
      "actual vs predicted:  ['S', '4R', '3L', 'E']  vs  S 4R 3L E labels:  1 1\n",
      "7\n",
      "actual vs predicted:  ['S', '4R', '3L', 'E']  vs  S 4R 3L E labels:  1 1\n",
      "7\n",
      "actual vs predicted:  ['S', '4R', '3L', 'E']  vs  S 4R 3L E labels:  1 1\n",
      "7\n",
      "actual vs predicted:  ['S', '4R', '3R', '3R', 'E']  vs  S 4R 3R 3R E labels:  2 2\n",
      "7\n",
      "actual vs predicted:  ['S', '4L', 'E']  vs  S 4L E labels:  0 0\n",
      "7\n",
      "actual vs predicted:  ['S', '4L', 'E']  vs  S 4L E labels:  0 0\n",
      "7\n",
      "actual vs predicted:  ['S', '4R', '3L', 'E']  vs  S 4R 3L E labels:  1 1\n",
      "7\n",
      "actual vs predicted:  ['S', '4R', '3L', 'E']  vs  S 4R 3L E labels:  1 1\n",
      "7\n",
      "actual vs predicted:  ['S', '4L', 'E']  vs  S 4L E labels:  0 0\n",
      "7\n",
      "actual vs predicted:  ['S', '4L', 'E']  vs  S 4L E labels:  0 0\n",
      "7\n",
      "actual vs predicted:  ['S', '4R', '3R', '3R', 'E']  vs  S 4R 3R 3R E labels:  2 2\n",
      "7\n",
      "actual vs predicted:  ['S', '4R', '3L', 'E']  vs  S 4R 3L E labels:  1 1\n",
      "7\n",
      "actual vs predicted:  ['S', '4L', 'E']  vs  S 4L E labels:  0 0\n",
      "7\n",
      "actual vs predicted:  ['S', '4L', 'E']  vs  S 4L E labels:  0 0\n",
      "7\n",
      "actual vs predicted:  ['S', '4R', '3R', '3R', 'E']  vs  S 4R 3R 3R E labels:  2 2\n",
      "7\n",
      "actual vs predicted:  ['S', '4R', '3L', 'E']  vs  S 4R 3L E labels:  1 1\n",
      "7\n",
      "actual vs predicted:  ['S', '4R', '3R', '3R', 'E']  vs  S 4R 3R 3R E labels:  2 2\n",
      "7\n",
      "actual vs predicted:  ['S', '4R', '3R', '3R', 'E']  vs  S 4R 3R 3R E labels:  2 1\n",
      "7\n",
      "actual vs predicted:  ['S', '4R', '3R', '3R', 'E']  vs  S 4R 3R 3R E labels:  2 2\n",
      "7\n",
      "actual vs predicted:  ['S', '4L', 'E']  vs  S 4L E labels:  0 0\n",
      "7\n",
      "actual vs predicted:  ['S', '4L', 'E']  vs  S 4L E labels:  0 0\n",
      "7\n",
      "actual vs predicted:  ['S', '4R', '3R', '3R', 'E']  vs  S 4R 3R 3R E labels:  2 2\n",
      "7\n",
      "actual vs predicted:  ['S', '4L', 'E']  vs  S 4L E labels:  0 0\n",
      "7\n",
      "actual vs predicted:  ['S', '4L', 'E']  vs  S 4L E labels:  0 0\n",
      "7\n",
      "actual vs predicted:  ['S', '4L', 'E']  vs  S 4L E labels:  0 0\n",
      "7\n",
      "actual vs predicted:  ['S', '4R', '3L', 'E']  vs  S 4R 3L E labels:  1 1\n",
      "7\n",
      "actual vs predicted:  ['S', '4L', 'E']  vs  S 4L E labels:  0 0\n",
      "7\n",
      "actual vs predicted:  ['S', '4R', '3R', '3R', 'E']  vs  S 4R 3R 3R E labels:  2 2\n",
      "7\n",
      "actual vs predicted:  ['S', '4L', 'E']  vs  S 4L E labels:  0 0\n",
      "7\n",
      "actual vs predicted:  ['S', '4R', '3R', '3R', 'E']  vs  S 4R 3R 3R E labels:  2 2\n",
      "7\n",
      "actual vs predicted:  ['S', '4L', 'E']  vs  S 4L E labels:  0 0\n",
      "7\n",
      "actual vs predicted:  ['S', '4R', '3R', '3L', '4R', '2L', 'E']  vs  S 4R 3R 3R E labels:  2 2\n",
      "7\n",
      "actual vs predicted:  ['S', '4R', '3R', '3R', 'E']  vs  S 4R 3R 3R E labels:  2 2\n",
      "7\n",
      "actual vs predicted:  ['S', '4L', 'E']  vs  S 4L E labels:  0 0\n",
      "7\n",
      "actual vs predicted:  ['S', '4R', '3R', '3R', 'E']  vs  S 4R 3R 3R E labels:  2 2\n",
      "7\n",
      "actual vs predicted:  ['S', '4R', '3L', 'E']  vs  S 4R 3L E labels:  1 1\n",
      "7\n",
      "actual vs predicted:  ['S', '4L', 'E']  vs  S 4L E labels:  0 0\n",
      "7\n",
      "actual vs predicted:  ['S', '4R', '3L', 'E']  vs  S 4R 3L E labels:  1 1\n",
      "7\n",
      "actual vs predicted:  ['S', '4L', 'E']  vs  S 4L E labels:  0 0\n",
      "7\n",
      "actual vs predicted:  ['S', '4L', 'E']  vs  S 4L E labels:  0 0\n",
      "7\n",
      "actual vs predicted:  ['S', '4R', '3L', 'E']  vs  S 4R 3R 3R E labels:  1 1\n",
      "7\n",
      "actual vs predicted:  ['S', '4L', 'E']  vs  S 4L E labels:  0 0\n",
      "7\n",
      "actual vs predicted:  ['S', '4R', '3R', '3R', 'E']  vs  S 4R 3R 3R E labels:  2 2\n",
      "7\n",
      "actual vs predicted:  ['S', '4R', '3L', 'E']  vs  S 4R 3L E labels:  1 1\n",
      "7\n",
      "actual vs predicted:  ['S', '4R', '3L', 'E']  vs  S 4R 3L E labels:  1 1\n",
      "7\n",
      "actual vs predicted:  ['S', '4R', '3L', 'E']  vs  S 4R 3L E labels:  1 1\n",
      "7\n",
      "actual vs predicted:  ['S', '4R', '3R', '3R', 'E']  vs  S 4R 3R 3R E labels:  2 2\n",
      "7\n",
      "actual vs predicted:  ['S', '4R', '3L', 'E']  vs  S 4R 3L E labels:  1 1\n",
      "7\n",
      "actual vs predicted:  ['S', '4R', '3R', '3R', 'E']  vs  S 4R 3R 3R E labels:  2 2\n",
      "7\n",
      "actual vs predicted:  ['S', '4L', 'E']  vs  S 4L E labels:  0 0\n",
      "7\n",
      "actual vs predicted:  ['S', '4R', '3L', 'E']  vs  S 4R 3L E labels:  1 1\n",
      "7\n",
      "actual vs predicted:  ['S', '4R', '3L', 'E']  vs  S 4R 3L E labels:  1 1\n",
      "7\n",
      "actual vs predicted:  ['S', '4R', '3R', '3R', 'E']  vs  S 4R 3R 3R E labels:  2 2\n",
      "7\n",
      "actual vs predicted:  ['S', '4R', '3L', 'E']  vs  S 4R 3L E labels:  1 1\n",
      "7\n",
      "actual vs predicted:  ['S', '4L', 'E']  vs  S 4L E labels:  0 0\n",
      "7\n",
      "actual vs predicted:  ['S', '4L', 'E']  vs  S 4L E labels:  0 0\n",
      "7\n",
      "actual vs predicted:  ['S', '4R', '3L', 'E']  vs  S 4R 3L E labels:  1 1\n",
      "7\n",
      "actual vs predicted:  ['S', '4R', '3L', 'E']  vs  S 4R 3L E labels:  1 1\n",
      "7\n",
      "actual vs predicted:  ['S', '4L', 'E']  vs  S 4L E labels:  0 0\n",
      "7\n",
      "actual vs predicted:  ['S', '4L', 'E']  vs  S 4L E labels:  0 0\n",
      "7\n",
      "actual vs predicted:  ['S', '4R', '3R', '3R', 'E']  vs  S 4R 3R 3R E labels:  2 2\n",
      "7\n",
      "actual vs predicted:  ['S', '4R', '3R', '3R', 'E']  vs  S 4R 3R 3R E labels:  2 2\n",
      "7\n",
      "actual vs predicted:  ['S', '4R', '3R', '3R', 'E']  vs  S 4R 3R 3R E labels:  2 2\n",
      "7\n",
      "actual vs predicted:  ['S', '4L', 'E']  vs  S 4L E labels:  0 0\n",
      "7\n",
      "actual vs predicted:  ['S', '4R', '3L', 'E']  vs  S 4R 3L E labels:  1 1\n",
      "7\n",
      "actual vs predicted:  ['S', '4L', 'E']  vs  S 4L E labels:  0 0\n",
      "7\n",
      "actual vs predicted:  ['S', '4R', '3R', '3R', 'E']  vs  S 4R 3R 3R E labels:  2 2\n",
      "7\n",
      "actual vs predicted:  ['S', '4R', '3L', 'E']  vs  S 4R 3L E labels:  1 1\n",
      "7\n",
      "actual vs predicted:  ['S', '4R', '3R', '3L', '4R', '2R', 'E']  vs  S 4R 3R 3R E labels:  1 1\n",
      "7\n",
      "actual vs predicted:  ['S', '4R', '3R', '3R', 'E']  vs  S 4R 3L E labels:  2 1\n",
      "7\n",
      "actual vs predicted:  ['S', '4L', 'E']  vs  S 4L E labels:  0 0\n",
      "7\n",
      "actual vs predicted:  ['S', '4R', '3L', 'E']  vs  S 4R 3L E labels:  1 1\n",
      "7\n",
      "actual vs predicted:  ['S', '4R', '3R', '3R', 'E']  vs  S 4R 3R 3R E labels:  2 2\n"
     ]
    },
    {
     "name": "stdout",
     "output_type": "stream",
     "text": [
      "7\n",
      "actual vs predicted:  ['S', '4L', 'E']  vs  S 4L E labels:  0 0\n",
      "7\n",
      "actual vs predicted:  ['S', '4L', 'E']  vs  S 4L E labels:  0 0\n",
      "7\n",
      "actual vs predicted:  ['S', '4R', '3R', '3R', 'E']  vs  S 4R 3L E labels:  1 1\n",
      "7\n",
      "actual vs predicted:  ['S', '4R', '3R', '3L', '4R', '2L', 'E']  vs  S 4R 3R 3R E labels:  2 1\n",
      "7\n",
      "actual vs predicted:  ['S', '4R', '3R', '3R', 'E']  vs  S 4R 3R 3R E labels:  2 2\n",
      "7\n",
      "actual vs predicted:  ['S', '4R', '3L', 'E']  vs  S 4R 3L E labels:  1 1\n",
      "7\n",
      "actual vs predicted:  ['S', '4L', 'E']  vs  S 4L E labels:  0 0\n",
      "7\n",
      "actual vs predicted:  ['S', '4L', 'E']  vs  S 4L E labels:  0 0\n",
      "7\n",
      "actual vs predicted:  ['S', '4R', '3L', 'E']  vs  S 4R 3R 3R E labels:  2 2\n",
      "7\n",
      "actual vs predicted:  ['S', '4R', '3R', '3L', '4L', 'E']  vs  S 4R 3R 3R E labels:  1 1\n",
      "7\n",
      "actual vs predicted:  ['S', '4R', '3L', 'E']  vs  S 4R 3L E labels:  1 1\n",
      "7\n",
      "actual vs predicted:  ['S', '4R', '3L', 'E']  vs  S 4R 3L E labels:  1 1\n",
      "7\n",
      "actual vs predicted:  ['S', '4L', 'E']  vs  S 4L E labels:  0 0\n",
      "7\n",
      "actual vs predicted:  ['S', '4R', '3R', '3R', 'E']  vs  S 4R 3R 3R E labels:  2 2\n",
      "7\n",
      "actual vs predicted:  ['S', '4L', 'E']  vs  S 4L E labels:  0 0\n",
      "7\n",
      "actual vs predicted:  ['S', '4R', '3L', 'E']  vs  S 4R 3L E labels:  1 1\n",
      "7\n",
      "actual vs predicted:  ['S', '4L', 'E']  vs  S 4L E labels:  0 0\n",
      "7\n",
      "actual vs predicted:  ['S', '4R', '3L', 'E']  vs  S 4R 3L E labels:  1 1\n",
      "7\n",
      "actual vs predicted:  ['S', '4R', '3R', '3L', '4R', '2L', 'E']  vs  S 4R 3R 3R E labels:  2 1\n",
      "7\n",
      "actual vs predicted:  ['S', '4R', '3L', 'E']  vs  S 4R 3L E labels:  1 1\n",
      "7\n",
      "actual vs predicted:  ['S', '4R', '3L', 'E']  vs  S 4R 3L E labels:  1 1\n",
      "7\n",
      "actual vs predicted:  ['S', '4L', 'E']  vs  S 4L E labels:  0 0\n",
      "7\n",
      "actual vs predicted:  ['S', '4R', '3L', 'E']  vs  S 4R 3L E labels:  1 1\n",
      "7\n",
      "actual vs predicted:  ['S', '4R', '3R', '3R', 'E']  vs  S 4R 3R 3R E labels:  1 1\n",
      "7\n",
      "actual vs predicted:  ['S', '4L', 'E']  vs  S 4L E labels:  0 0\n",
      "7\n",
      "actual vs predicted:  ['S', '4R', '3R', '3R', 'E']  vs  S 4R 3R 3R E labels:  2 2\n",
      "7\n",
      "actual vs predicted:  ['S', '4R', '3L', 'E']  vs  S 4R 3L E labels:  1 1\n",
      "7\n",
      "actual vs predicted:  ['S', '4R', '3R', '3R', 'E']  vs  S 4R 3R 3R E labels:  2 2\n",
      "7\n",
      "actual vs predicted:  ['S', '4R', '3R', '3L', '4R', '2L', 'E']  vs  S 4R 3R 3R E labels:  2 2\n",
      "7\n",
      "actual vs predicted:  ['S', '4R', '3R', '3R', 'E']  vs  S 4R 3R 3R E labels:  2 2\n",
      "7\n",
      "actual vs predicted:  ['S', '4R', '3L', 'E']  vs  S 4R 3L E labels:  1 1\n",
      "7\n",
      "actual vs predicted:  ['S', '4L', 'E']  vs  S 4L E labels:  0 0\n",
      "7\n",
      "actual vs predicted:  ['S', '4R', '3L', 'E']  vs  S 4R 3L E labels:  1 1\n",
      "7\n",
      "actual vs predicted:  ['S', '4R', '3R', '3R', 'E']  vs  S 4R 3R 3R E labels:  2 1\n",
      "7\n",
      "actual vs predicted:  ['S', '4L', 'E']  vs  S 4L E labels:  0 0\n",
      "7\n",
      "actual vs predicted:  ['S', '4R', '3R', '3L', '4R', '2L', 'E']  vs  S 4R 3R 3R E labels:  2 2\n",
      "7\n",
      "actual vs predicted:  ['S', '4R', '3R', '3R', 'E']  vs  S 4R 3R 3R E labels:  2 2\n",
      "7\n",
      "actual vs predicted:  ['S', '4R', '3R', '3R', 'E']  vs  S 4R 3R 3R E labels:  2 2\n",
      "7\n",
      "actual vs predicted:  ['S', '4R', '3R', '3R', 'E']  vs  S 4R 3R 3R E labels:  2 2\n",
      "7\n",
      "actual vs predicted:  ['S', '4R', '3R', '3R', 'E']  vs  S 4R 3R 3R E labels:  2 2\n",
      "Bleu score of paths -  0.9497278369935723\n"
     ]
    }
   ],
   "source": [
    "trial_2.score()"
   ]
  },
  {
   "cell_type": "code",
   "execution_count": null,
   "metadata": {},
   "outputs": [],
   "source": []
  }
 ],
 "metadata": {
  "kernelspec": {
   "display_name": "Python 3",
   "language": "python",
   "name": "python3"
  },
  "language_info": {
   "codemirror_mode": {
    "name": "ipython",
    "version": 3
   },
   "file_extension": ".py",
   "mimetype": "text/x-python",
   "name": "python",
   "nbconvert_exporter": "python",
   "pygments_lexer": "ipython3",
   "version": "3.6.8"
  },
  "toc": {
   "base_numbering": 1,
   "nav_menu": {},
   "number_sections": true,
   "sideBar": true,
   "skip_h1_title": false,
   "title_cell": "Table of Contents",
   "title_sidebar": "Contents",
   "toc_cell": false,
   "toc_position": {},
   "toc_section_display": true,
   "toc_window_display": false
  }
 },
 "nbformat": 4,
 "nbformat_minor": 2
}
